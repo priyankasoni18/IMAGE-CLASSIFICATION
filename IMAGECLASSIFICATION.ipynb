{
  "nbformat": 4,
  "nbformat_minor": 0,
  "metadata": {
    "colab": {
      "name": "Untitled0.ipynb",
      "provenance": [],
      "collapsed_sections": []
    },
    "kernelspec": {
      "name": "python3",
      "display_name": "Python 3"
    }
  },
  "cells": [
    {
      "cell_type": "code",
      "metadata": {
        "colab": {
          "base_uri": "https://localhost:8080/"
        },
        "id": "IKfhaxyLMDeb",
        "outputId": "5cb32267-60cd-4bb2-eacf-f4303775883c"
      },
      "source": [
        "!pip install bing-image-downloader\n"
      ],
      "execution_count": 1,
      "outputs": [
        {
          "output_type": "stream",
          "text": [
            "Collecting bing-image-downloader\n",
            "  Downloading https://files.pythonhosted.org/packages/0d/bf/537a61030b84ae4cd5022d5c7b014fd9bc3ce7c02358919153a6658a61d3/bing_image_downloader-1.0.4-py3-none-any.whl\n",
            "Installing collected packages: bing-image-downloader\n",
            "Successfully installed bing-image-downloader-1.0.4\n"
          ],
          "name": "stdout"
        }
      ]
    },
    {
      "cell_type": "code",
      "metadata": {
        "id": "FP2rFExfMV2l"
      },
      "source": [
        "from bing_image_downloader import downloader\n"
      ],
      "execution_count": 4,
      "outputs": []
    },
    {
      "cell_type": "code",
      "metadata": {
        "colab": {
          "base_uri": "https://localhost:8080/"
        },
        "id": "3Xuluz5bMZoD",
        "outputId": "1be12361-2bf6-4f59-bab6-16b5a514852a"
      },
      "source": [
        "downloader.download('fruits', limit=20 , output_dir='images', adult_filter_off=True)"
      ],
      "execution_count": 5,
      "outputs": [
        {
          "output_type": "stream",
          "text": [
            "\n",
            "\n",
            "[!!]Indexing page: 1\n",
            "\n",
            "[%] Indexed 20 Images on Page 1.\n",
            "\n",
            "===============================================\n",
            "\n",
            "[%] Downloading Image #1 from http://www.fruitsinfo.com/fruit-facts/wp-content/uploads/2010/08/fruit.jpg\n",
            "[Error]Invalid image, not saving http://www.fruitsinfo.com/fruit-facts/wp-content/uploads/2010/08/fruit.jpg\n",
            "\n",
            "[!] Issue getting: http://www.fruitsinfo.com/fruit-facts/wp-content/uploads/2010/08/fruit.jpg\n",
            "[!] Error:: No active exception to reraise\n",
            "[%] Downloading Image #1 from http://www.barbiemartini.com/wp-content/uploads/2014/07/Top-Fruits-Vegetables.jpg\n",
            "[%] File Downloaded !\n",
            "\n",
            "[%] Downloading Image #2 from http://attemptnwin.com/wp-content/uploads/2014/10/fruits3.png\n",
            "[%] File Downloaded !\n",
            "\n",
            "[%] Downloading Image #3 from http://1.bp.blogspot.com/-HeoNA5riosQ/ThsX8IyX1FI/AAAAAAAAAX0/_nrhKhKZED4/s1600/Exotic%2BFruits-748648.jpg\n",
            "[%] File Downloaded !\n",
            "\n",
            "[%] Downloading Image #4 from https://wallpapertag.com/wallpaper/full/1/4/9/964532-fruits-basket-wallpapers-1242x2208-for-phones.jpg\n",
            "[%] File Downloaded !\n",
            "\n",
            "[%] Downloading Image #5 from http://media4.onsugar.com/files/2012/04/15/1/192/1922195/213128407e594874_rainbowthumb.xxxlarge/i/Colorful-Fruits-Vegetables.jpg\n",
            "[%] File Downloaded !\n",
            "\n",
            "[%] Downloading Image #6 from https://get.wallhere.com/photo/fruits-different-many-still-life-1042220.jpg\n",
            "[Error]Invalid image, not saving https://get.wallhere.com/photo/fruits-different-many-still-life-1042220.jpg\n",
            "\n",
            "[!] Issue getting: https://get.wallhere.com/photo/fruits-different-many-still-life-1042220.jpg\n",
            "[!] Error:: No active exception to reraise\n",
            "[%] Downloading Image #6 from http://hdwallpaperfun.com/wp-content/uploads/2014/08/Fruits-Variety-Wallpaper-Background.jpg\n",
            "[%] File Downloaded !\n",
            "\n",
            "[%] Downloading Image #7 from https://policygenius-blog.imgix.net/2018/05/fruits-vegetables.jpg\n",
            "[%] File Downloaded !\n",
            "\n",
            "[%] Downloading Image #8 from http://valwebs.files.wordpress.com/2012/09/exotic_tropical_fruits1.jpg\n",
            "[%] File Downloaded !\n",
            "\n",
            "[%] Downloading Image #9 from https://ww1.prweb.com/prfiles/2016/09/16/13692959/shutterstock_372770197.jpg\n",
            "[%] File Downloaded !\n",
            "\n",
            "[%] Downloading Image #10 from https://blog.ediblearrangements.com/wp-content/uploads/2019/08/fruits-in-season.jpg\n",
            "[%] File Downloaded !\n",
            "\n",
            "[%] Downloading Image #11 from http://3.bp.blogspot.com/-w-6vGX60aNE/TkdaUlf0iFI/AAAAAAAAAHo/O7dMdPPRnh4/s1600/Citrus+Fruits.jpg\n",
            "[%] File Downloaded !\n",
            "\n",
            "[%] Downloading Image #12 from https://www.readersdigest.ca/wp-content/uploads/2016/11/fruits-veggies-happiness-health-report.jpg\n",
            "[%] File Downloaded !\n",
            "\n",
            "[%] Downloading Image #13 from http://cdn.lolwot.com/wp-content/uploads/2014/12/13-common-fruits-with-amazing-healing-properties-1.jpg\n",
            "[%] File Downloaded !\n",
            "\n",
            "[%] Downloading Image #14 from https://m.media-amazon.com/images/S/assets.wholefoodsmarket.com/content/83/0c/333e756f4688a1431e30c7a86b9d/citrus-hero.jpg\n",
            "[%] File Downloaded !\n",
            "\n",
            "[%] Downloading Image #15 from http://attemptnwin.com/wp-content/uploads/2014/10/fruits2.jpg\n",
            "[%] File Downloaded !\n",
            "\n",
            "[%] Downloading Image #16 from http://valwebs.files.wordpress.com/2012/09/fruits2.jpg\n",
            "[%] File Downloaded !\n",
            "\n",
            "[%] Downloading Image #17 from https://api.time.com/wp-content/uploads/2014/07/fruits-and-vegetables.jpg\n",
            "[%] File Downloaded !\n",
            "\n",
            "[%] Downloading Image #18 from https://media1.fdncms.com/inlander/imager/u/original/4871288/fruits_veggies.jpg_.jpg\n",
            "[%] File Downloaded !\n",
            "\n",
            "\n",
            "\n",
            "[!!]Indexing page: 2\n",
            "\n",
            "[%] Indexed 35 Images on Page 2.\n",
            "\n",
            "===============================================\n",
            "\n",
            "[%] Downloading Image #19 from http://www.fruitsinfo.com/fruit-facts/wp-content/uploads/2010/08/fruit.jpg\n",
            "[Error]Invalid image, not saving http://www.fruitsinfo.com/fruit-facts/wp-content/uploads/2010/08/fruit.jpg\n",
            "\n",
            "[!] Issue getting: http://www.fruitsinfo.com/fruit-facts/wp-content/uploads/2010/08/fruit.jpg\n",
            "[!] Error:: No active exception to reraise\n",
            "[%] Downloading Image #19 from http://www.barbiemartini.com/wp-content/uploads/2014/07/Top-Fruits-Vegetables.jpg\n",
            "[%] File Downloaded !\n",
            "\n",
            "[%] Downloading Image #20 from http://attemptnwin.com/wp-content/uploads/2014/10/fruits3.png\n",
            "[%] File Downloaded !\n",
            "\n",
            "\n",
            "\n",
            "[%] Done. Downloaded 20 images.\n",
            "\n",
            "===============================================\n",
            "\n"
          ],
          "name": "stdout"
        }
      ]
    },
    {
      "cell_type": "code",
      "metadata": {
        "colab": {
          "base_uri": "https://localhost:8080/"
        },
        "id": "EMPJmm_gMnGJ",
        "outputId": "ae487558-4922-4a01-c5a6-6650ce3778eb"
      },
      "source": [
        "downloader.download('furniture', limit=20 , output_dir='images', adult_filter_off=True)"
      ],
      "execution_count": 6,
      "outputs": [
        {
          "output_type": "stream",
          "text": [
            "\n",
            "\n",
            "[!!]Indexing page: 1\n",
            "\n",
            "[%] Indexed 20 Images on Page 1.\n",
            "\n",
            "===============================================\n",
            "\n",
            "[%] Downloading Image #1 from https://www.original-antique-furniture.com/wp-content/uploads/sites/3/2019/06/image5.jpeg\n",
            "[%] File Downloaded !\n",
            "\n",
            "[%] Downloading Image #2 from http://www.visithomefurniture.com/new/wp-content/uploads/2020/02/19504-38-35-08-T814-1024x740.jpg\n",
            "[%] File Downloaded !\n",
            "\n",
            "[%] Downloading Image #3 from https://sodafine.com/wp-content/uploads/2019/06/baker-furniture-sofas.jpg\n",
            "[%] File Downloaded !\n",
            "\n",
            "[%] Downloading Image #4 from https://aarsunwoods.com/wp-content/uploads/2020/02/Wooden-Royal-Bedroom-Furniture-UH-ROYAL-0013.jpg\n",
            "[%] File Downloaded !\n",
            "\n",
            "[%] Downloading Image #5 from https://couponcravings.com/wp-content/uploads/2018/05/Ashley-Furniture-Outdoor-Furniture.jpg\n",
            "[%] File Downloaded !\n",
            "\n",
            "[%] Downloading Image #6 from https://homezonefurniture.com/images/thumbs/0013614_athena-sectional.jpeg\n",
            "[%] File Downloaded !\n",
            "\n",
            "[%] Downloading Image #7 from https://s.yimg.com/aah/yhst-96405782831295/luxurious-traditional-style-formal-living-room-furniture-set-hd-462-56.jpg\n",
            "[Error]Invalid image, not saving https://s.yimg.com/aah/yhst-96405782831295/luxurious-traditional-style-formal-living-room-furniture-set-hd-462-56.jpg\n",
            "\n",
            "[!] Issue getting: https://s.yimg.com/aah/yhst-96405782831295/luxurious-traditional-style-formal-living-room-furniture-set-hd-462-56.jpg\n",
            "[!] Error:: No active exception to reraise\n",
            "[%] Downloading Image #7 from https://www.original-antique-furniture.com/wp-content/uploads/sites/3/2019/06/image2.jpeg\n",
            "[%] File Downloaded !\n",
            "\n",
            "[%] Downloading Image #8 from https://blog.ashleyfurniturehomestore.com/wp-content/uploads/2016/01/lsdlhslkh.jpg\n",
            "[%] File Downloaded !\n",
            "\n",
            "[%] Downloading Image #9 from https://sodafine.com/wp-content/uploads/2017/03/bassett-furniture-living-room.jpg\n",
            "[%] File Downloaded !\n",
            "\n",
            "[%] Downloading Image #10 from https://designbump.com/wp-content/uploads/2015/08/Living-Room-Furniture.jpg\n",
            "[%] File Downloaded !\n",
            "\n",
            "[%] Downloading Image #11 from https://cdn.designbump.com/wp-content/uploads/2015/08/Outdoor-Furniture-inspiration.jpg\n",
            "[%] File Downloaded !\n",
            "\n",
            "[%] Downloading Image #12 from http://ep.yimg.com/ay/yhst-96405782831295/dream-java-chenille-sofa-love-seat-living-room-furniture-set-wood-trim-12.jpg\n",
            "[%] File Downloaded !\n",
            "\n",
            "[%] Downloading Image #13 from https://designbump.com/wp-content/uploads/2015/08/outdoor-furniture.jpg\n",
            "[%] File Downloaded !\n",
            "\n",
            "[%] Downloading Image #14 from https://shoppingkim.com/wp-content/uploads/2017/08/furniture-store.jpg\n",
            "[%] File Downloaded !\n",
            "\n",
            "[%] Downloading Image #15 from https://interiordecoratingcolors.com/wp-content/uploads/2018/02/chantelle-bedrooms-bedroom-furniture-interiordecoratingcolors-pertaining-to-bedroom-furniture-bedroom-furniture-sets.jpg\n",
            "[%] File Downloaded !\n",
            "\n",
            "[%] Downloading Image #16 from http://www.momdot.com/wp-content/uploads/2016/05/boulevard-bedroom-set.jpg\n",
            "[%] File Downloaded !\n",
            "\n",
            "[%] Downloading Image #17 from http://thewowstyle.com/wp-content/uploads/2015/05/furniture-black-bedroom-set1.jpg\n",
            "[%] File Downloaded !\n",
            "\n",
            "[%] Downloading Image #18 from https://interiordecoratingcolors.com/wp-content/uploads/2018/01/outstanding-living-room-ideas-brown-sofa-color-walls-with-to-go-intended-for-how-to-decor-leather-furniture-how-to-decorate-with-leather-furniture.jpg\n",
            "[%] File Downloaded !\n",
            "\n",
            "[%] Downloading Image #19 from http://www.avetexfurniture.com/images/products/5/7845/495-sofa-set.jpg\n",
            "[%] File Downloaded !\n",
            "\n",
            "\n",
            "\n",
            "[!!]Indexing page: 2\n",
            "\n",
            "[%] Indexed 35 Images on Page 2.\n",
            "\n",
            "===============================================\n",
            "\n",
            "[%] Downloading Image #20 from https://www.original-antique-furniture.com/wp-content/uploads/sites/3/2019/06/image5.jpeg\n",
            "[%] File Downloaded !\n",
            "\n",
            "\n",
            "\n",
            "[%] Done. Downloaded 20 images.\n",
            "\n",
            "===============================================\n",
            "\n"
          ],
          "name": "stdout"
        }
      ]
    },
    {
      "cell_type": "code",
      "metadata": {
        "colab": {
          "base_uri": "https://localhost:8080/"
        },
        "id": "D7YGG29MMxzN",
        "outputId": "1f9f475d-bbd5-46ba-9640-20d5a85a7db9"
      },
      "source": [
        "downloader.download('cars', limit=20 , output_dir='images', adult_filter_off=True)"
      ],
      "execution_count": 7,
      "outputs": [
        {
          "output_type": "stream",
          "text": [
            "\n",
            "\n",
            "[!!]Indexing page: 1\n",
            "\n",
            "[%] Indexed 20 Images on Page 1.\n",
            "\n",
            "===============================================\n",
            "\n",
            "[%] Downloading Image #1 from https://pictures.topspeed.com/IMG/jpg/201807/5-modern-sports-cars.jpg\n",
            "[%] File Downloaded !\n",
            "\n",
            "[%] Downloading Image #2 from http://s1.cdn.autoevolution.com/images/news/gallery/consumer-reports-best-worst-cars-2016_8.jpeg\n",
            "[%] File Downloaded !\n",
            "\n",
            "[%] Downloading Image #3 from https://s1.cdn.autoevolution.com/images/news/gallery/production-cars-with-the-highest-torque-numbers-for-2017_34.jpg\n",
            "[%] File Downloaded !\n",
            "\n",
            "[%] Downloading Image #4 from https://www.best-selling-cars.com/wp-content/uploads/2020/05/Jaguar-I-pace.jpg\n",
            "[%] File Downloaded !\n",
            "\n",
            "[%] Downloading Image #5 from https://static2.thethingsimages.com/wordpress/wp-content/uploads/2020/05/15-Sickest-Concept-Cars-In-2020-1.jpg\n",
            "[%] File Downloaded !\n",
            "\n",
            "[%] Downloading Image #6 from https://cdn.wccftech.com/wp-content/uploads/2015/04/Project-CARS-32.jpg\n",
            "[%] File Downloaded !\n",
            "\n",
            "[%] Downloading Image #7 from https://www.motortrend.com/uploads/sites/5/2019/12/MotorTrend-Most-Important-Cars-of-the-Decade.jpg\n",
            "[!] Issue getting: https://www.motortrend.com/uploads/sites/5/2019/12/MotorTrend-Most-Important-Cars-of-the-Decade.jpg\n",
            "[!] Error:: The read operation timed out\n",
            "[%] Downloading Image #7 from https://www.autoguide.com/blog/wp-content/gallery/exotic-cars-from-2015-sema-show/Exotics-at-SEMA-2015-20.jpg\n",
            "[%] File Downloaded !\n",
            "\n",
            "[%] Downloading Image #8 from http://www.icebike.org/wp-content/uploads/2015/08/electric-cars-75996151.jpg\n",
            "[%] File Downloaded !\n",
            "\n",
            "[%] Downloading Image #9 from https://www.topgear.com/sites/default/files/styles/16x9_1280w/public/news-listicle/image/2015/11/row_0804.jpg?itok=WBynM_Uo\n",
            "[%] File Downloaded !\n",
            "\n",
            "[%] Downloading Image #10 from https://www.automobilemag.com/uploads/sites/11/2018/07/2019-New-and-Future-Cars-07.jpg\n",
            "[%] File Downloaded !\n",
            "\n",
            "[%] Downloading Image #11 from https://improb.com/wp-content/uploads/2019/07/Best-Street-Legal-Cars-that-Can-Do-Over-200-MPH.jpg\n",
            "[Error]Invalid image, not saving https://improb.com/wp-content/uploads/2019/07/Best-Street-Legal-Cars-that-Can-Do-Over-200-MPH.jpg\n",
            "\n",
            "[!] Issue getting: https://improb.com/wp-content/uploads/2019/07/Best-Street-Legal-Cars-that-Can-Do-Over-200-MPH.jpg\n",
            "[!] Error:: No active exception to reraise\n",
            "[%] Downloading Image #11 from https://media.gq.com/photos/58d54dae54d2617a9a731067/16:9/w_1280/Cars-Portfolio-1317-GQ-FECA04-01.jpg\n",
            "[%] File Downloaded !\n",
            "\n",
            "[%] Downloading Image #12 from https://www.automobilemag.com/uploads/sites/11/2018/07/2019-New-and-Future-Cars-11.jpg\n",
            "[%] File Downloaded !\n",
            "\n",
            "[%] Downloading Image #13 from https://www.trbimg.com/img-58f4e257/turbine/os-bz-bb-self-driving-cars-sports-cars-20170417\n",
            "[%] File Downloaded !\n",
            "\n",
            "[%] Downloading Image #14 from https://cnet2.cbsistatic.com/img/4SWMXaIO3A3QCMjmBtb8TP331vM=/1600x900/2016/11/11/9736a637-c84c-4dca-bf1e-40f5387ac849/2016-focus-rs-25.jpg\n",
            "[%] File Downloaded !\n",
            "\n",
            "[%] Downloading Image #15 from https://pictures.topspeed.com/IMG/crop/201909/the-10-fastest-awd-s_1600x0w.jpg\n",
            "[%] File Downloaded !\n",
            "\n",
            "[%] Downloading Image #16 from https://media.evo.co.uk/image/upload/v1573129210/evo/2019/11/Best%20German%20cars%20.jpg\n",
            "[%] File Downloaded !\n",
            "\n",
            "[%] Downloading Image #17 from https://www.pcgamesn.com/wp-content/uploads/2019/07/gta-casino-cars.jpg\n",
            "[%] File Downloaded !\n",
            "\n",
            "[%] Downloading Image #18 from https://www.media.volvocars.com/image/low/141821/2_2/1?i=1\n",
            "[%] File Downloaded !\n",
            "\n",
            "\n",
            "\n",
            "[!!]Indexing page: 2\n",
            "\n",
            "[%] Indexed 35 Images on Page 2.\n",
            "\n",
            "===============================================\n",
            "\n",
            "[%] Downloading Image #19 from http://s1.cdn.autoevolution.com/images/news/gallery/consumer-reports-best-worst-cars-2016_8.jpeg\n",
            "[%] File Downloaded !\n",
            "\n",
            "[%] Downloading Image #20 from https://s1.cdn.autoevolution.com/images/news/gallery/production-cars-with-the-highest-torque-numbers-for-2017_34.jpg\n",
            "[%] File Downloaded !\n",
            "\n",
            "\n",
            "\n",
            "[%] Done. Downloaded 20 images.\n",
            "\n",
            "===============================================\n",
            "\n"
          ],
          "name": "stdout"
        }
      ]
    },
    {
      "cell_type": "code",
      "metadata": {
        "id": "1xgtL-ALNJH_"
      },
      "source": [
        "#Preprocessing the images\n",
        "\n",
        "import os\n",
        "import matplotlib.pyplot as plt\n",
        "import numpy as np\n",
        "from skimage.io import imread\n",
        "from skimage.transform import resize"
      ],
      "execution_count": 8,
      "outputs": []
    },
    {
      "cell_type": "code",
      "metadata": {
        "id": "JS2PSkLcNQ51"
      },
      "source": [
        "Target = []\n",
        "Images = []\n",
        "Flattened_data = []"
      ],
      "execution_count": 9,
      "outputs": []
    },
    {
      "cell_type": "code",
      "metadata": {
        "id": "Z8XYNyOcNXZn"
      },
      "source": [
        "DATADIR='/content/images'"
      ],
      "execution_count": 10,
      "outputs": []
    },
    {
      "cell_type": "code",
      "metadata": {
        "id": "eQAnsKGRNgI5"
      },
      "source": [
        "CATAGORIES = ['cars','fruits','furniture']"
      ],
      "execution_count": 11,
      "outputs": []
    },
    {
      "cell_type": "code",
      "metadata": {
        "id": "EyJYSx_nNkvk"
      },
      "source": [
        "for catagory in CATAGORIES :\n",
        "  class_num = CATAGORIES.index(catagory)\n",
        "  path = os.path.join(DATADIR,catagory)\n",
        "  # Now we will read the values by iterating and is stored\n",
        "  for img in os.listdir(path) :\n",
        "    Image_Array = imread(os.path.join(path,img))\n",
        "    # plt.imshow(Image_Array) to show the images\n",
        "    Image_Resized = resize(Image_Array,(150,150,3))\n",
        "    # Now passing the flattened verion\n",
        "    Flattened_data.append(Image_Resized.flatten())\n",
        "    Images.append(Image_Resized)\n",
        "    Target.append(class_num)"
      ],
      "execution_count": 12,
      "outputs": []
    },
    {
      "cell_type": "code",
      "metadata": {
        "colab": {
          "base_uri": "https://localhost:8080/",
          "height": 282
        },
        "id": "53MIpnloN4QU",
        "outputId": "fe77fa49-57e4-4e35-929e-2f542572e003"
      },
      "source": [
        "Flattened_data = np.array(Flattened_data)\n",
        "Images = np.array(Images)\n",
        "Target = np.array(Target)\n",
        "\n",
        "unique,count = np.unique(Target,return_counts=True)\n",
        "plt.bar(CATAGORIES,count)"
      ],
      "execution_count": 13,
      "outputs": [
        {
          "output_type": "execute_result",
          "data": {
            "text/plain": [
              "<BarContainer object of 3 artists>"
            ]
          },
          "metadata": {
            "tags": []
          },
          "execution_count": 13
        },
        {
          "output_type": "display_data",
          "data": {
            "image/png": "[encoded data removed]",
            "text/plain": [
              "<Figure size 432x288 with 1 Axes>"
            ]
          },
          "metadata": {
            "tags": [],
            "needs_background": "light"
          }
        }
      ]
    },
    {
      "cell_type": "code",
      "metadata": {
        "id": "frkUPebpOHCw"
      },
      "source": [
        "from sklearn.model_selection import train_test_split\n",
        "X_train, X_test, y_train, y_test = train_test_split(Flattened_data,Target,test_size=0.2, random_state=42)"
      ],
      "execution_count": 14,
      "outputs": []
    },
    {
      "cell_type": "code",
      "metadata": {
        "colab": {
          "base_uri": "https://localhost:8080/"
        },
        "id": "uK80RKwHOMyS",
        "outputId": "d9885664-070f-456c-d25c-07006f27f5e6"
      },
      "source": [
        "X_train.shape\n"
      ],
      "execution_count": 15,
      "outputs": [
        {
          "output_type": "execute_result",
          "data": {
            "text/plain": [
              "(48, 67500)"
            ]
          },
          "metadata": {
            "tags": []
          },
          "execution_count": 15
        }
      ]
    },
    {
      "cell_type": "code",
      "metadata": {
        "colab": {
          "base_uri": "https://localhost:8080/"
        },
        "id": "fiqe75IhOQgR",
        "outputId": "7bdcb7d8-3ce2-46b4-8567-a175a821b3d6"
      },
      "source": [
        "y_train.shape"
      ],
      "execution_count": 16,
      "outputs": [
        {
          "output_type": "execute_result",
          "data": {
            "text/plain": [
              "(48,)"
            ]
          },
          "metadata": {
            "tags": []
          },
          "execution_count": 16
        }
      ]
    },
    {
      "cell_type": "code",
      "metadata": {
        "id": "dsIoqg4nOXAM"
      },
      "source": [
        "from sklearn.model_selection import GridSearchCV\n",
        "from sklearn import svm"
      ],
      "execution_count": 18,
      "outputs": []
    },
    {
      "cell_type": "code",
      "metadata": {
        "colab": {
          "base_uri": "https://localhost:8080/"
        },
        "id": "6384cH2-OaE-",
        "outputId": "2632a30f-d8fe-4c41-b52b-1605203c6c1c"
      },
      "source": [
        "param_grid = [\n",
        "  {'C': [1, 10, 100, 1000], 'kernel': ['linear']},\n",
        "  {'C': [1, 10, 100, 1000], 'gamma': [0.001, 0.0001], 'kernel': ['rbf']},\n",
        " ]\n",
        "svc = svm.SVC(probability = True)\n",
        "clf = GridSearchCV(svc,param_grid)\n",
        "clf.fit(X_train,y_train)"
      ],
      "execution_count": 19,
      "outputs": [
        {
          "output_type": "execute_result",
          "data": {
            "text/plain": [
              "GridSearchCV(cv=None, error_score=nan,\n",
              "             estimator=SVC(C=1.0, break_ties=False, cache_size=200,\n",
              "                           class_weight=None, coef0=0.0,\n",
              "                           decision_function_shape='ovr', degree=3,\n",
              "                           gamma='scale', kernel='rbf', max_iter=-1,\n",
              "                           probability=True, random_state=None, shrinking=True,\n",
              "                           tol=0.001, verbose=False),\n",
              "             iid='deprecated', n_jobs=None,\n",
              "             param_grid=[{'C': [1, 10, 100, 1000], 'kernel': ['linear']},\n",
              "                         {'C': [1, 10, 100, 1000], 'gamma': [0.001, 0.0001],\n",
              "                          'kernel': ['rbf']}],\n",
              "             pre_dispatch='2*n_jobs', refit=True, return_train_score=False,\n",
              "             scoring=None, verbose=0)"
            ]
          },
          "metadata": {
            "tags": []
          },
          "execution_count": 19
        }
      ]
    },
    {
      "cell_type": "code",
      "metadata": {
        "colab": {
          "base_uri": "https://localhost:8080/"
        },
        "id": "z1bTo4ulOw_e",
        "outputId": "e0cfa65a-702d-4a1a-a7e7-890ad01721f4"
      },
      "source": [
        "y_pred = clf.predict(X_test)\n",
        "y_pred"
      ],
      "execution_count": 20,
      "outputs": [
        {
          "output_type": "execute_result",
          "data": {
            "text/plain": [
              "array([0, 0, 1, 0, 0, 2, 1, 2, 0, 2, 2, 2])"
            ]
          },
          "metadata": {
            "tags": []
          },
          "execution_count": 20
        }
      ]
    },
    {
      "cell_type": "code",
      "metadata": {
        "colab": {
          "base_uri": "https://localhost:8080/"
        },
        "id": "yR2GJZkkO3dY",
        "outputId": "3cfef1f7-dcf8-49e4-8b70-fe49f7d6da06"
      },
      "source": [
        "y_test"
      ],
      "execution_count": 21,
      "outputs": [
        {
          "output_type": "execute_result",
          "data": {
            "text/plain": [
              "array([0, 0, 1, 2, 0, 2, 1, 2, 0, 2, 2, 2])"
            ]
          },
          "metadata": {
            "tags": []
          },
          "execution_count": 21
        }
      ]
    },
    {
      "cell_type": "code",
      "metadata": {
        "colab": {
          "base_uri": "https://localhost:8080/"
        },
        "id": "OtauktLzO6m9",
        "outputId": "ba7501d4-fbb4-46c9-dd95-5fbb8f01589d"
      },
      "source": [
        "from sklearn.metrics import accuracy_score,confusion_matrix\n",
        "accuracy_score(y_pred,y_test)"
      ],
      "execution_count": 22,
      "outputs": [
        {
          "output_type": "execute_result",
          "data": {
            "text/plain": [
              "0.9166666666666666"
            ]
          },
          "metadata": {
            "tags": []
          },
          "execution_count": 22
        }
      ]
    },
    {
      "cell_type": "code",
      "metadata": {
        "colab": {
          "base_uri": "https://localhost:8080/"
        },
        "id": "RdtGlymeO-1t",
        "outputId": "dbb60f34-6b9b-4dd1-f13f-b96734bad2d8"
      },
      "source": [
        "confusion_matrix(y_pred,y_test)"
      ],
      "execution_count": 23,
      "outputs": [
        {
          "output_type": "execute_result",
          "data": {
            "text/plain": [
              "array([[4, 0, 1],\n",
              "       [0, 2, 0],\n",
              "       [0, 0, 5]])"
            ]
          },
          "metadata": {
            "tags": []
          },
          "execution_count": 23
        }
      ]
    },
    {
      "cell_type": "code",
      "metadata": {
        "id": "nYMcoHGTPCbC"
      },
      "source": [
        "import pickle\n",
        "pickle.dump(clf,open('img_model.p','wb'))"
      ],
      "execution_count": 24,
      "outputs": []
    },
    {
      "cell_type": "code",
      "metadata": {
        "id": "Q0kwm0IJPGfW"
      },
      "source": [
        "model = pickle.load(open(\"img_model.p\",'rb'))"
      ],
      "execution_count": 25,
      "outputs": []
    },
    {
      "cell_type": "code",
      "metadata": {
        "colab": {
          "base_uri": "https://localhost:8080/"
        },
        "id": "ejEWAIxFPJ6s",
        "outputId": "bf138872-dd5a-4302-ee98-feb1423dd613"
      },
      "source": [
        "Flattened_data = []\n",
        "url = input(\"Enter URL of the image\")\n",
        "img = imread(url)\n",
        "img_resized = resize(img,(150,150,3))\n",
        "Flattened_data.append(img_resized.flatten())\n",
        "Flattened_data = np.array(Flattened_data)\n",
        "y_out = model.predict(Flattened_data)\n",
        "y_out = CATAGORIES[y_out[0]]\n",
        "print(\"Predicted Output :\")\n",
        "print(y_out)"
      ],
      "execution_count": 26,
      "outputs": [
        {
          "output_type": "stream",
          "text": [
            "Enter URL of the imagehttps://i.insider.com/5abd52ff5c791e40008b456c?width=1300&format=jpeg&auto=webp\n",
            "Predicted Output :\n",
            "furniture\n"
          ],
          "name": "stdout"
        }
      ]
    }
  ]
}